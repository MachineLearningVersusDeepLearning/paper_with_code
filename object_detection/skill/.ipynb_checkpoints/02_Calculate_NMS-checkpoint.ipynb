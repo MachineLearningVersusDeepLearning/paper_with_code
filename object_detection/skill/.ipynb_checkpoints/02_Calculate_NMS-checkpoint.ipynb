{
 "cells": [
  {
   "cell_type": "markdown",
   "metadata": {},
   "source": [
    "# Let's make IOU"
   ]
  },
  {
   "cell_type": "markdown",
   "metadata": {},
   "source": [
    "\"\"\" Intersection Usion      \n",
    "Args:      \n",
    "    box1 : 2D array [x,y,w,h]      \n",
    "    box2 : single array [x,y,w,h]      \n",
    "          \n",
    "Returns :      \n",
    "    IoU : range[0,1]      \n",
    "            \n",
    "\"\"\"      "
   ]
  },
  {
   "cell_type": "markdown",
   "metadata": {},
   "source": [
    "# Define Library"
   ]
  },
  {
   "cell_type": "code",
   "execution_count": 300,
   "metadata": {},
   "outputs": [],
   "source": [
    "import numpy as np"
   ]
  },
  {
   "cell_type": "markdown",
   "metadata": {},
   "source": [
    "## If I have 4 bounding boxes"
   ]
  },
  {
   "cell_type": "code",
   "execution_count": 301,
   "metadata": {},
   "outputs": [],
   "source": [
    "probablity = np.array([0.6, 0.7,0.3,0.4])"
   ]
  },
  {
   "cell_type": "code",
   "execution_count": 302,
   "metadata": {},
   "outputs": [],
   "source": [
    "boxes = np.array([[5,5,7,7],[6,6,7,7],[7,7,7,7],[8,8,7,7]])"
   ]
  },
  {
   "cell_type": "code",
   "execution_count": 303,
   "metadata": {},
   "outputs": [
    {
     "data": {
      "text/plain": [
       "array([5, 6, 7, 8])"
      ]
     },
     "execution_count": 303,
     "metadata": {},
     "output_type": "execute_result"
    }
   ],
   "source": [
    "boxes[:,0]"
   ]
  },
  {
   "cell_type": "code",
   "execution_count": 304,
   "metadata": {},
   "outputs": [
    {
     "data": {
      "text/plain": [
       "array([5, 5, 7, 7])"
      ]
     },
     "execution_count": 304,
     "metadata": {},
     "output_type": "execute_result"
    }
   ],
   "source": [
    "boxes[0]"
   ]
  },
  {
   "cell_type": "code",
   "execution_count": 305,
   "metadata": {},
   "outputs": [
    {
     "data": {
      "text/plain": [
       "array([5, 5, 7, 7])"
      ]
     },
     "execution_count": 305,
     "metadata": {},
     "output_type": "execute_result"
    }
   ],
   "source": [
    "boxes[0,:]"
   ]
  },
  {
   "cell_type": "code",
   "execution_count": 306,
   "metadata": {},
   "outputs": [
    {
     "data": {
      "text/plain": [
       "array([6, 6, 7, 7])"
      ]
     },
     "execution_count": 306,
     "metadata": {},
     "output_type": "execute_result"
    }
   ],
   "source": [
    "boxes[1,:]"
   ]
  },
  {
   "cell_type": "markdown",
   "metadata": {},
   "source": [
    "# Draw Bounding Box"
   ]
  },
  {
   "cell_type": "code",
   "execution_count": 307,
   "metadata": {},
   "outputs": [],
   "source": [
    "import matplotlib.pyplot as plt"
   ]
  },
  {
   "cell_type": "code",
   "execution_count": 308,
   "metadata": {},
   "outputs": [
    {
     "data": {
      "image/png": "[encoded data removed]",
      "text/plain": [
       "<Figure size 432x288 with 1 Axes>"
      ]
     },
     "metadata": {
      "needs_background": "light"
     },
     "output_type": "display_data"
    }
   ],
   "source": [
    "x_array = []\n",
    "y_array = []\n",
    "\n",
    "for box in boxes :\n",
    "    x_array.append( [box[0]-box[2]/2 , box[0]+box[2]/2, box[0]+box[2]/2 , box[0]-box[2]/2, box[0]-box[2]/2])\n",
    "    y_array.append( [box[1]-box[3]/2 , box[1]-box[3]/2, box[1]+box[3]/2 , box[1]+box[3]/2, box[1]-box[3]/2])\n",
    "    #print(x_array)\n",
    "\n",
    "for i,_ in enumerate(x_array) :\n",
    "    plt.plot(x_array[i],y_array[i])\n",
    "    plt.text( boxes[i,0] ,  boxes[i,1],\"p = {}\".format(probablity[i]))\n",
    "\n",
    "\n",
    "plt.grid()\n",
    "    "
   ]
  },
  {
   "cell_type": "markdown",
   "metadata": {},
   "source": [
    "# Calculate IoU"
   ]
  },
  {
   "cell_type": "markdown",
   "metadata": {},
   "source": [
    "### The method of calculation\n",
    "space = minimuch (right side) * maximum (left side)"
   ]
  },
  {
   "cell_type": "code",
   "execution_count": 309,
   "metadata": {},
   "outputs": [],
   "source": [
    "def batch_iou(box1,box2):\n",
    "    intersection_width = np.maximum( np.minimum( box1[0]+box1[2]*0.5, box2[0]+box2[2]*0.5) - np.maximum( box1[0]-box1[2]*0.5, box2[0]-box2[2]*0.5),0 )\n",
    "    intersection_height = np.maximum( np.minimum( box1[1]+box1[3]*0.5, box2[1]+box2[3]*0.5) - np.maximum( box1[1]-box1[3]*0.5, box2[1]-box2[3]*0.5),0 )                         \n",
    "    inter = intersection_height*intersection_width\n",
    "    union = box1[2]*box1[3] + box2[2]*box2[3] -inter\n",
    "    return inter/union"
   ]
  },
  {
   "cell_type": "code",
   "execution_count": 310,
   "metadata": {},
   "outputs": [
    {
     "data": {
      "text/plain": [
       "array([5, 5, 7, 7])"
      ]
     },
     "execution_count": 310,
     "metadata": {},
     "output_type": "execute_result"
    }
   ],
   "source": [
    "boxes[0,:]"
   ]
  },
  {
   "cell_type": "code",
   "execution_count": 311,
   "metadata": {},
   "outputs": [
    {
     "data": {
      "text/plain": [
       "array([6, 6, 7, 7])"
      ]
     },
     "execution_count": 311,
     "metadata": {},
     "output_type": "execute_result"
    }
   ],
   "source": [
    "boxes[1,:]"
   ]
  },
  {
   "cell_type": "code",
   "execution_count": 312,
   "metadata": {},
   "outputs": [
    {
     "data": {
      "text/plain": [
       "0.5806451612903226"
      ]
     },
     "execution_count": 312,
     "metadata": {},
     "output_type": "execute_result"
    }
   ],
   "source": [
    "batch_iou(boxes[0,:],boxes[1,:])"
   ]
  },
  {
   "cell_type": "markdown",
   "metadata": {},
   "source": [
    "# Calculate NMS"
   ]
  },
  {
   "cell_type": "code",
   "execution_count": 313,
   "metadata": {},
   "outputs": [
    {
     "data": {
      "text/plain": [
       "array([0, 1])"
      ]
     },
     "execution_count": 313,
     "metadata": {},
     "output_type": "execute_result"
    }
   ],
   "source": [
    "a = np.array([1.1,1.2]) \n",
    "a.argsort()"
   ]
  },
  {
   "cell_type": "code",
   "execution_count": 314,
   "metadata": {},
   "outputs": [
    {
     "data": {
      "text/plain": [
       "array([1, 0, 3, 2])"
      ]
     },
     "execution_count": 314,
     "metadata": {},
     "output_type": "execute_result"
    }
   ],
   "source": [
    "order = probablity.argsort()[::-1]\n",
    "order"
   ]
  },
  {
   "cell_type": "code",
   "execution_count": 315,
   "metadata": {},
   "outputs": [
    {
     "data": {
      "text/plain": [
       "[True, True, True, True]"
      ]
     },
     "execution_count": 315,
     "metadata": {},
     "output_type": "execute_result"
    }
   ],
   "source": [
    "keep = [True] * len(order)\n",
    "keep"
   ]
  },
  {
   "cell_type": "code",
   "execution_count": 322,
   "metadata": {},
   "outputs": [],
   "source": [
    "def _nms(boxes,prob,threshhold):\n",
    "    #print(probablity)\n",
    "    order = probablity.argsort()[::-1]\n",
    "    print(\"order =\", order)\n",
    "    keep = [True] * len(order)\n",
    "    print(\"keep = \", keep)\n",
    "    ### compare using sliding window\n",
    "    ### limit\n",
    "    iou = []\n",
    "    for i in range(len(order)-1):\n",
    "        iou.append( batch_iou(boxes[order[i+1]], boxes[order[i]]) )\n",
    "        print(\"iou {}~{}\".format(i,i+1),\"=\",iou[i])\n",
    "        if iou[i] > threshhold:\n",
    "            keep[order[i+1]] = False \n",
    "    return keep"
   ]
  },
  {
   "cell_type": "code",
   "execution_count": 323,
   "metadata": {},
   "outputs": [
    {
     "name": "stdout",
     "output_type": "stream",
     "text": [
      "order = [1 0 3 2]\n",
      "keep =  [True, True, True, True]\n",
      "iou 0~1 = 0.5806451612903226\n",
      "iou 1~2 = 0.1951219512195122\n",
      "iou 2~3 = 0.5806451612903226\n"
     ]
    }
   ],
   "source": [
    "nms_keep = _nms(boxes,probablity,0.5)"
   ]
  },
  {
   "cell_type": "code",
   "execution_count": 324,
   "metadata": {},
   "outputs": [
    {
     "data": {
      "text/plain": [
       "[True, True, True, True]"
      ]
     },
     "execution_count": 324,
     "metadata": {},
     "output_type": "execute_result"
    }
   ],
   "source": [
    "keep"
   ]
  },
  {
   "cell_type": "markdown",
   "metadata": {},
   "source": [
    "### 1, 3 = true, 0,2 false"
   ]
  },
  {
   "cell_type": "code",
   "execution_count": 325,
   "metadata": {},
   "outputs": [
    {
     "data": {
      "text/plain": [
       "[False, True, False, True]"
      ]
     },
     "execution_count": 325,
     "metadata": {},
     "output_type": "execute_result"
    }
   ],
   "source": [
    "nms_keep"
   ]
  },
  {
   "cell_type": "markdown",
   "metadata": {},
   "source": [
    "Reference    \n",
    "[1]. code, https://github.com/BichenWuUCB/squeezeDet/blob/master/src/utils/util.py "
   ]
  }
 ],
 "metadata": {
  "kernelspec": {
   "display_name": "Python 3",
   "language": "python",
   "name": "python3"
  },
  "language_info": {
   "codemirror_mode": {
    "name": "ipython",
    "version": 3
   },
   "file_extension": ".py",
   "mimetype": "text/x-python",
   "name": "python",
   "nbconvert_exporter": "python",
   "pygments_lexer": "ipython3",
   "version": "3.7.6"
  }
 },
 "nbformat": 4,
 "nbformat_minor": 4
}
